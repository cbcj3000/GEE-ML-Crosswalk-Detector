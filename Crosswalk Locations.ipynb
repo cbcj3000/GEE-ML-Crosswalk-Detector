{
 "cells": [
  {
   "cell_type": "code",
   "execution_count": 2,
   "id": "f307b31f",
   "metadata": {},
   "outputs": [],
   "source": [
    "import pandas as pd\n",
    "\n",
    "df = pd.read_csv(r'C:\\Users\\CCruzJimenez\\Downloads\\NYC_crosswalk_locations.csv')  \n",
    "processed_data = []\n",
    "\n",
    "def process_row(row1, row2):\n",
    "    latitude1, longitude1 = float(row1['latitude']), float(row1['longitude'])\n",
    "    latitude2, longitude2 = float(row2['latitude']), float(row2['longitude'])\n",
    "    processed_data.append([longitude1, latitude1])\n",
    "    processed_data.append([longitude2, latitude2])\n",
    "\n",
    "for i in range(0, len(df), 2):\n",
    "    process_row(df.loc[i], df.loc[i + 1])\n",
    "\n",
    "output_path = r'C:\\Users\\CCruzJimenez\\Desktop\\Testing\\Crosswalks\\csv-data.js'\n",
    "with open(output_path, 'w') as file:\n",
    "    file.write('function getCSVData() {\\n')\n",
    "    file.write('  return [\\n')\n",
    "    for data in processed_data:\n",
    "        file.write(f'    {data},\\n')\n",
    "    file.write('  ];\\n')\n",
    "    file.write('}\\n')\n"
   ]
  },
  {
   "cell_type": "code",
   "execution_count": null,
   "id": "a5ae8dee",
   "metadata": {},
   "outputs": [],
   "source": []
  }
 ],
 "metadata": {
  "kernelspec": {
   "display_name": "Python 3",
   "language": "python",
   "name": "python3"
  },
  "language_info": {
   "codemirror_mode": {
    "name": "ipython",
    "version": 3
   },
   "file_extension": ".py",
   "mimetype": "text/x-python",
   "name": "python",
   "nbconvert_exporter": "python",
   "pygments_lexer": "ipython3",
   "version": "3.9.11"
  }
 },
 "nbformat": 4,
 "nbformat_minor": 5
}
